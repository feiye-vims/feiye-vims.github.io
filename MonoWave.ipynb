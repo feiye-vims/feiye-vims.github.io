{
  "nbformat": 4,
  "nbformat_minor": 0,
  "metadata": {
    "colab": {
      "name": "Untitled0.ipynb",
      "provenance": [],
      "authorship_tag": "ABX9TyNXmMKpWa7IAa47GyMQODo8",
      "include_colab_link": true
    },
    "kernelspec": {
      "name": "python3",
      "display_name": "Python 3"
    }
  },
  "cells": [
    {
      "cell_type": "markdown",
      "metadata": {
        "id": "view-in-github",
        "colab_type": "text"
      },
      "source": [
        "<a href=\"https://colab.research.google.com/github/feiye-vims/feiye-vims.github.io/blob/master/MonoWave.ipynb\" target=\"_parent\"><img src=\"https://colab.research.google.com/assets/colab-badge.svg\" alt=\"Open In Colab\"/></a>"
      ]
    },
    {
      "cell_type": "markdown",
      "metadata": {
        "id": "f-5RD920tfOH"
      },
      "source": [
        "#Setup of the Monochromatic wave test"
      ]
    },
    {
      "cell_type": "markdown",
      "metadata": {
        "id": "eh8EnA4Kv4z3"
      },
      "source": [
        "##Wave characteristics\n",
        "Mimicking surface gravity wave in real coastal applications:"
      ]
    },
    {
      "cell_type": "code",
      "metadata": {
        "colab": {
          "base_uri": "https://localhost:8080/"
        },
        "id": "VL-ghR_UqK7M",
        "outputId": "1403bb58-673f-4128-a6bb-b622766baef6"
      },
      "source": [
        "from scipy import constants\n",
        "\n",
        "print('Constants: pi = \"{pi}\"; g = \"{g}\"'.format(pi=constants.pi, g=constants.g))\n",
        "\n",
        "lamda=120 # m\n",
        "\n",
        "k=2 * pi / lamda # rad/m​\n",
        "print('Wave number = \"{k}\"'.format(k=k))\n",
        "\n",
        "h=15 # m\n",
        "L =1200 # m​"
      ],
      "execution_count": 15,
      "outputs": [
        {
          "output_type": "stream",
          "text": [
            "Constants: pi = \"3.141592653589793\"; g = \"9.80665\"\n",
            "Wave number = \"0.05235987755982988\"\n"
          ],
          "name": "stdout"
        }
      ]
    },
    {
      "cell_type": "markdown",
      "metadata": {
        "id": "C_aJXrl4uhKf"
      },
      "source": [
        "#Solitary wave beaching test"
      ]
    },
    {
      "cell_type": "markdown",
      "metadata": {
        "id": "xRWmSTvFvvLk"
      },
      "source": [
        "## Initial conditions"
      ]
    },
    {
      "cell_type": "markdown",
      "metadata": {
        "id": "c2PF1tH2wDhx"
      },
      "source": [
        "### Boundary nodes in 3D"
      ]
    },
    {
      "cell_type": "code",
      "metadata": {
        "colab": {
          "base_uri": "https://localhost:8080/"
        },
        "id": "xSTjrGbNwMp8",
        "outputId": "4936cb11-3125-4dd8-a089-79c0261584f6"
      },
      "source": [
        "import numpy as np\n",
        "\n",
        "nvrt = 5\n",
        "nope = 11\n",
        "sigma = np.linspace(-1, 0, num=nvrt)\n",
        "print('Sigma coordinate: ', sigma)"
      ],
      "execution_count": 23,
      "outputs": [
        {
          "output_type": "stream",
          "text": [
            "Sigma coordinate:  [-1.   -0.75 -0.5  -0.25  0.  ]\n"
          ],
          "name": "stdout"
        }
      ]
    }
  ]
}