{
  "nbformat": 4,
  "nbformat_minor": 0,
  "metadata": {
    "colab": {
      "name": "Untitled0.ipynb",
      "provenance": [],
      "authorship_tag": "ABX9TyOdt9hCqehI4AQPrij/VQ+R",
      "include_colab_link": true
    },
    "kernelspec": {
      "name": "python3",
      "display_name": "Python 3"
    }
  },
  "cells": [
    {
      "cell_type": "markdown",
      "metadata": {
        "id": "view-in-github",
        "colab_type": "text"
      },
      "source": [
        "<a href=\"https://colab.research.google.com/github/feiye-vims/feiye-vims.github.io/blob/master/MonoWave.ipynb\" target=\"_parent\"><img src=\"https://colab.research.google.com/assets/colab-badge.svg\" alt=\"Open In Colab\"/></a>"
      ]
    },
    {
      "cell_type": "code",
      "metadata": {
        "colab": {
          "base_uri": "https://localhost:8080/"
        },
        "id": "VL-ghR_UqK7M",
        "outputId": "51fabeff-36f9-4460-e758-3aed3dd0de2a"
      },
      "source": [
        "from scipy import constants\n",
        "\n",
        "print('Constants: pi = \"{pi}\"; g = \"{g}\"'.format(pi=constants.pi, g=constants.g))\n",
        "\n",
        "lamda=120 # m\n",
        "\n",
        "k=2 * pi / lamda # rad/m​\n",
        "print('Wave number = \"{k}\"'.format(k=k))\n",
        "\n",
        "h=15 # m\n",
        "L =1200 # m​"
      ],
      "execution_count": 14,
      "outputs": [
        {
          "output_type": "stream",
          "text": [
            "Constants: pi = \"3.141592653589793\"; g = \"9.80665\"\n",
            "9.80665\n",
            "3.141592653589793\n",
            "Wave number = \"0.05235987755982988\"\n"
          ],
          "name": "stdout"
        }
      ]
    }
  ]
}